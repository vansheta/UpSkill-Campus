{
 "cells": [
  {
   "cell_type": "code",
   "execution_count": 7,
   "id": "e1fe5eb7",
   "metadata": {},
   "outputs": [],
   "source": [
    "import matplotlib.pyplot as plt\n",
    "%matplotlib inline\n",
    "from datetime import datetime\n",
    "import time\n",
    "import seaborn as sns\n",
    "import pandas as pd\n",
    "\n",
    "import warnings\n",
    "warnings.filterwarnings('ignore')\n",
    "\n",
    "from sklearn.preprocessing import *\n",
    "from sklearn.model_selection import *\n",
    "from sklearn.metrics import *\n",
    "import lightgbm as lgb\n",
    "import xgboost as xgb\n",
    "\n",
    "# Boosting Algorithm Libraries :\n",
    "from sklearn.ensemble import RandomForestRegressor"
   ]
  },
  {
   "cell_type": "code",
   "execution_count": 8,
   "id": "6a28f3be",
   "metadata": {},
   "outputs": [],
   "source": [
    "test = pd.read_csv('test_data.csv')\n",
    "train = pd.read_csv('train_data.csv')"
   ]
  },
  {
   "cell_type": "markdown",
   "id": "4aaec9c5",
   "metadata": {},
   "source": [
    "### Data information in train dataframe"
   ]
  },
  {
   "cell_type": "code",
   "execution_count": 9,
   "id": "19077dfc",
   "metadata": {},
   "outputs": [
    {
     "name": "stdout",
     "output_type": "stream",
     "text": [
      "rows:  48120  ,columns:  4  in Train \n",
      "\n",
      "<class 'pandas.core.frame.DataFrame'>\n",
      "RangeIndex: 48120 entries, 0 to 48119\n",
      "Data columns (total 4 columns):\n",
      " #   Column    Non-Null Count  Dtype \n",
      "---  ------    --------------  ----- \n",
      " 0   DateTime  48120 non-null  object\n",
      " 1   Junction  48120 non-null  int64 \n",
      " 2   Vehicles  48120 non-null  int64 \n",
      " 3   ID        48120 non-null  int64 \n",
      "dtypes: int64(3), object(1)\n",
      "memory usage: 1.5+ MB\n",
      "\n",
      "\n"
     ]
    },
    {
     "data": {
      "text/html": [
       "<div>\n",
       "<style scoped>\n",
       "    .dataframe tbody tr th:only-of-type {\n",
       "        vertical-align: middle;\n",
       "    }\n",
       "\n",
       "    .dataframe tbody tr th {\n",
       "        vertical-align: top;\n",
       "    }\n",
       "\n",
       "    .dataframe thead th {\n",
       "        text-align: right;\n",
       "    }\n",
       "</style>\n",
       "<table border=\"1\" class=\"dataframe\">\n",
       "  <thead>\n",
       "    <tr style=\"text-align: right;\">\n",
       "      <th></th>\n",
       "      <th>DateTime</th>\n",
       "      <th>Junction</th>\n",
       "      <th>Vehicles</th>\n",
       "      <th>ID</th>\n",
       "    </tr>\n",
       "  </thead>\n",
       "  <tbody>\n",
       "    <tr>\n",
       "      <th>0</th>\n",
       "      <td>2015-11-01 00:00:00</td>\n",
       "      <td>1</td>\n",
       "      <td>15</td>\n",
       "      <td>20151101001</td>\n",
       "    </tr>\n",
       "    <tr>\n",
       "      <th>1</th>\n",
       "      <td>2015-11-01 01:00:00</td>\n",
       "      <td>1</td>\n",
       "      <td>13</td>\n",
       "      <td>20151101011</td>\n",
       "    </tr>\n",
       "    <tr>\n",
       "      <th>2</th>\n",
       "      <td>2015-11-01 02:00:00</td>\n",
       "      <td>1</td>\n",
       "      <td>10</td>\n",
       "      <td>20151101021</td>\n",
       "    </tr>\n",
       "    <tr>\n",
       "      <th>3</th>\n",
       "      <td>2015-11-01 03:00:00</td>\n",
       "      <td>1</td>\n",
       "      <td>7</td>\n",
       "      <td>20151101031</td>\n",
       "    </tr>\n",
       "    <tr>\n",
       "      <th>4</th>\n",
       "      <td>2015-11-01 04:00:00</td>\n",
       "      <td>1</td>\n",
       "      <td>9</td>\n",
       "      <td>20151101041</td>\n",
       "    </tr>\n",
       "    <tr>\n",
       "      <th>48115</th>\n",
       "      <td>2017-06-30 19:00:00</td>\n",
       "      <td>4</td>\n",
       "      <td>11</td>\n",
       "      <td>20170630194</td>\n",
       "    </tr>\n",
       "    <tr>\n",
       "      <th>48116</th>\n",
       "      <td>2017-06-30 20:00:00</td>\n",
       "      <td>4</td>\n",
       "      <td>30</td>\n",
       "      <td>20170630204</td>\n",
       "    </tr>\n",
       "    <tr>\n",
       "      <th>48117</th>\n",
       "      <td>2017-06-30 21:00:00</td>\n",
       "      <td>4</td>\n",
       "      <td>16</td>\n",
       "      <td>20170630214</td>\n",
       "    </tr>\n",
       "    <tr>\n",
       "      <th>48118</th>\n",
       "      <td>2017-06-30 22:00:00</td>\n",
       "      <td>4</td>\n",
       "      <td>22</td>\n",
       "      <td>20170630224</td>\n",
       "    </tr>\n",
       "    <tr>\n",
       "      <th>48119</th>\n",
       "      <td>2017-06-30 23:00:00</td>\n",
       "      <td>4</td>\n",
       "      <td>12</td>\n",
       "      <td>20170630234</td>\n",
       "    </tr>\n",
       "  </tbody>\n",
       "</table>\n",
       "</div>"
      ],
      "text/plain": [
       "                  DateTime  Junction  Vehicles           ID\n",
       "0      2015-11-01 00:00:00         1        15  20151101001\n",
       "1      2015-11-01 01:00:00         1        13  20151101011\n",
       "2      2015-11-01 02:00:00         1        10  20151101021\n",
       "3      2015-11-01 03:00:00         1         7  20151101031\n",
       "4      2015-11-01 04:00:00         1         9  20151101041\n",
       "48115  2017-06-30 19:00:00         4        11  20170630194\n",
       "48116  2017-06-30 20:00:00         4        30  20170630204\n",
       "48117  2017-06-30 21:00:00         4        16  20170630214\n",
       "48118  2017-06-30 22:00:00         4        22  20170630224\n",
       "48119  2017-06-30 23:00:00         4        12  20170630234"
      ]
     },
     "metadata": {},
     "output_type": "display_data"
    }
   ],
   "source": [
    "def data_inf(data,name):\n",
    "    print('rows: ',data.shape[0],' ,columns: ',data.shape[1],' in',name,'\\n')\n",
    "    data.info()\n",
    "    print('\\n')\n",
    "data_inf(train,'Train')\n",
    "display(train.head(5).append(train.tail(5)))"
   ]
  },
  {
   "cell_type": "markdown",
   "id": "886759bd",
   "metadata": {},
   "source": [
    "### Data information in test dataframe"
   ]
  },
  {
   "cell_type": "code",
   "execution_count": 10,
   "id": "b0b53006",
   "metadata": {},
   "outputs": [
    {
     "name": "stdout",
     "output_type": "stream",
     "text": [
      "rows:  11808  ,columns:  3  in Test \n",
      "\n",
      "<class 'pandas.core.frame.DataFrame'>\n",
      "RangeIndex: 11808 entries, 0 to 11807\n",
      "Data columns (total 3 columns):\n",
      " #   Column    Non-Null Count  Dtype \n",
      "---  ------    --------------  ----- \n",
      " 0   DateTime  11808 non-null  object\n",
      " 1   Junction  11808 non-null  int64 \n",
      " 2   ID        11808 non-null  int64 \n",
      "dtypes: int64(2), object(1)\n",
      "memory usage: 276.9+ KB\n",
      "\n",
      "\n"
     ]
    },
    {
     "data": {
      "text/html": [
       "<div>\n",
       "<style scoped>\n",
       "    .dataframe tbody tr th:only-of-type {\n",
       "        vertical-align: middle;\n",
       "    }\n",
       "\n",
       "    .dataframe tbody tr th {\n",
       "        vertical-align: top;\n",
       "    }\n",
       "\n",
       "    .dataframe thead th {\n",
       "        text-align: right;\n",
       "    }\n",
       "</style>\n",
       "<table border=\"1\" class=\"dataframe\">\n",
       "  <thead>\n",
       "    <tr style=\"text-align: right;\">\n",
       "      <th></th>\n",
       "      <th>DateTime</th>\n",
       "      <th>Junction</th>\n",
       "      <th>ID</th>\n",
       "    </tr>\n",
       "  </thead>\n",
       "  <tbody>\n",
       "    <tr>\n",
       "      <th>0</th>\n",
       "      <td>2017-07-01 00:00:00</td>\n",
       "      <td>1</td>\n",
       "      <td>20170701001</td>\n",
       "    </tr>\n",
       "    <tr>\n",
       "      <th>1</th>\n",
       "      <td>2017-07-01 01:00:00</td>\n",
       "      <td>1</td>\n",
       "      <td>20170701011</td>\n",
       "    </tr>\n",
       "    <tr>\n",
       "      <th>2</th>\n",
       "      <td>2017-07-01 02:00:00</td>\n",
       "      <td>1</td>\n",
       "      <td>20170701021</td>\n",
       "    </tr>\n",
       "    <tr>\n",
       "      <th>3</th>\n",
       "      <td>2017-07-01 03:00:00</td>\n",
       "      <td>1</td>\n",
       "      <td>20170701031</td>\n",
       "    </tr>\n",
       "    <tr>\n",
       "      <th>4</th>\n",
       "      <td>2017-07-01 04:00:00</td>\n",
       "      <td>1</td>\n",
       "      <td>20170701041</td>\n",
       "    </tr>\n",
       "    <tr>\n",
       "      <th>11803</th>\n",
       "      <td>2017-10-31 19:00:00</td>\n",
       "      <td>4</td>\n",
       "      <td>20171031194</td>\n",
       "    </tr>\n",
       "    <tr>\n",
       "      <th>11804</th>\n",
       "      <td>2017-10-31 20:00:00</td>\n",
       "      <td>4</td>\n",
       "      <td>20171031204</td>\n",
       "    </tr>\n",
       "    <tr>\n",
       "      <th>11805</th>\n",
       "      <td>2017-10-31 21:00:00</td>\n",
       "      <td>4</td>\n",
       "      <td>20171031214</td>\n",
       "    </tr>\n",
       "    <tr>\n",
       "      <th>11806</th>\n",
       "      <td>2017-10-31 22:00:00</td>\n",
       "      <td>4</td>\n",
       "      <td>20171031224</td>\n",
       "    </tr>\n",
       "    <tr>\n",
       "      <th>11807</th>\n",
       "      <td>2017-10-31 23:00:00</td>\n",
       "      <td>4</td>\n",
       "      <td>20171031234</td>\n",
       "    </tr>\n",
       "  </tbody>\n",
       "</table>\n",
       "</div>"
      ],
      "text/plain": [
       "                  DateTime  Junction           ID\n",
       "0      2017-07-01 00:00:00         1  20170701001\n",
       "1      2017-07-01 01:00:00         1  20170701011\n",
       "2      2017-07-01 02:00:00         1  20170701021\n",
       "3      2017-07-01 03:00:00         1  20170701031\n",
       "4      2017-07-01 04:00:00         1  20170701041\n",
       "11803  2017-10-31 19:00:00         4  20171031194\n",
       "11804  2017-10-31 20:00:00         4  20171031204\n",
       "11805  2017-10-31 21:00:00         4  20171031214\n",
       "11806  2017-10-31 22:00:00         4  20171031224\n",
       "11807  2017-10-31 23:00:00         4  20171031234"
      ]
     },
     "metadata": {},
     "output_type": "display_data"
    }
   ],
   "source": [
    "data_inf(test,\"Test\")\n",
    "display(test.head(5).append(test.tail(5)))"
   ]
  },
  {
   "cell_type": "markdown",
   "id": "b7b1a59e",
   "metadata": {},
   "source": [
    "### Data Description"
   ]
  },
  {
   "cell_type": "code",
   "execution_count": 11,
   "id": "c628934c",
   "metadata": {},
   "outputs": [
    {
     "data": {
      "text/html": [
       "<div>\n",
       "<style scoped>\n",
       "    .dataframe tbody tr th:only-of-type {\n",
       "        vertical-align: middle;\n",
       "    }\n",
       "\n",
       "    .dataframe tbody tr th {\n",
       "        vertical-align: top;\n",
       "    }\n",
       "\n",
       "    .dataframe thead th {\n",
       "        text-align: right;\n",
       "    }\n",
       "</style>\n",
       "<table border=\"1\" class=\"dataframe\">\n",
       "  <thead>\n",
       "    <tr style=\"text-align: right;\">\n",
       "      <th></th>\n",
       "      <th>Junction</th>\n",
       "      <th>Vehicles</th>\n",
       "      <th>ID</th>\n",
       "    </tr>\n",
       "  </thead>\n",
       "  <tbody>\n",
       "    <tr>\n",
       "      <th>count</th>\n",
       "      <td>48120.000000</td>\n",
       "      <td>48120.000000</td>\n",
       "      <td>4.812000e+04</td>\n",
       "    </tr>\n",
       "    <tr>\n",
       "      <th>mean</th>\n",
       "      <td>2.180549</td>\n",
       "      <td>22.791334</td>\n",
       "      <td>2.016330e+10</td>\n",
       "    </tr>\n",
       "    <tr>\n",
       "      <th>std</th>\n",
       "      <td>0.966955</td>\n",
       "      <td>20.750063</td>\n",
       "      <td>5.944854e+06</td>\n",
       "    </tr>\n",
       "    <tr>\n",
       "      <th>min</th>\n",
       "      <td>1.000000</td>\n",
       "      <td>1.000000</td>\n",
       "      <td>2.015110e+10</td>\n",
       "    </tr>\n",
       "    <tr>\n",
       "      <th>25%</th>\n",
       "      <td>1.000000</td>\n",
       "      <td>9.000000</td>\n",
       "      <td>2.016042e+10</td>\n",
       "    </tr>\n",
       "    <tr>\n",
       "      <th>50%</th>\n",
       "      <td>2.000000</td>\n",
       "      <td>15.000000</td>\n",
       "      <td>2.016093e+10</td>\n",
       "    </tr>\n",
       "    <tr>\n",
       "      <th>75%</th>\n",
       "      <td>3.000000</td>\n",
       "      <td>29.000000</td>\n",
       "      <td>2.017023e+10</td>\n",
       "    </tr>\n",
       "    <tr>\n",
       "      <th>max</th>\n",
       "      <td>4.000000</td>\n",
       "      <td>180.000000</td>\n",
       "      <td>2.017063e+10</td>\n",
       "    </tr>\n",
       "  </tbody>\n",
       "</table>\n",
       "</div>"
      ],
      "text/plain": [
       "           Junction      Vehicles            ID\n",
       "count  48120.000000  48120.000000  4.812000e+04\n",
       "mean       2.180549     22.791334  2.016330e+10\n",
       "std        0.966955     20.750063  5.944854e+06\n",
       "min        1.000000      1.000000  2.015110e+10\n",
       "25%        1.000000      9.000000  2.016042e+10\n",
       "50%        2.000000     15.000000  2.016093e+10\n",
       "75%        3.000000     29.000000  2.017023e+10\n",
       "max        4.000000    180.000000  2.017063e+10"
      ]
     },
     "metadata": {},
     "output_type": "display_data"
    },
    {
     "data": {
      "text/html": [
       "<div>\n",
       "<style scoped>\n",
       "    .dataframe tbody tr th:only-of-type {\n",
       "        vertical-align: middle;\n",
       "    }\n",
       "\n",
       "    .dataframe tbody tr th {\n",
       "        vertical-align: top;\n",
       "    }\n",
       "\n",
       "    .dataframe thead th {\n",
       "        text-align: right;\n",
       "    }\n",
       "</style>\n",
       "<table border=\"1\" class=\"dataframe\">\n",
       "  <thead>\n",
       "    <tr style=\"text-align: right;\">\n",
       "      <th></th>\n",
       "      <th>DateTime</th>\n",
       "    </tr>\n",
       "  </thead>\n",
       "  <tbody>\n",
       "    <tr>\n",
       "      <th>count</th>\n",
       "      <td>48120</td>\n",
       "    </tr>\n",
       "    <tr>\n",
       "      <th>unique</th>\n",
       "      <td>14592</td>\n",
       "    </tr>\n",
       "    <tr>\n",
       "      <th>top</th>\n",
       "      <td>2017-06-30 23:00:00</td>\n",
       "    </tr>\n",
       "    <tr>\n",
       "      <th>freq</th>\n",
       "      <td>4</td>\n",
       "    </tr>\n",
       "  </tbody>\n",
       "</table>\n",
       "</div>"
      ],
      "text/plain": [
       "                   DateTime\n",
       "count                 48120\n",
       "unique                14592\n",
       "top     2017-06-30 23:00:00\n",
       "freq                      4"
      ]
     },
     "metadata": {},
     "output_type": "display_data"
    }
   ],
   "source": [
    "display(train.describe())\n",
    "display(train.describe(include = 'object'))"
   ]
  },
  {
   "cell_type": "markdown",
   "id": "479dbbbd",
   "metadata": {},
   "source": [
    "### Drop duplicate rows in train data"
   ]
  },
  {
   "cell_type": "code",
   "execution_count": 12,
   "id": "e72bfb9c",
   "metadata": {},
   "outputs": [
    {
     "name": "stdout",
     "output_type": "stream",
     "text": [
      "before dropping  48120\n",
      "after dropping  48120\n"
     ]
    }
   ],
   "source": [
    "print('before dropping ',train.shape[0])\n",
    "train.drop_duplicates(keep=\"first\", inplace=True) \n",
    "print('after dropping ',train.shape[0])"
   ]
  },
  {
   "cell_type": "markdown",
   "id": "ad7f7922",
   "metadata": {},
   "source": [
    "### Check for missing values and fill them if there"
   ]
  },
  {
   "cell_type": "code",
   "execution_count": 13,
   "id": "2803d5e3",
   "metadata": {},
   "outputs": [
    {
     "name": "stdout",
     "output_type": "stream",
     "text": [
      "no missing values in train\n",
      "no missing values in test\n"
     ]
    }
   ],
   "source": [
    "if(train.isnull().sum().sum()==0):\n",
    "    print('no missing values in train')\n",
    "else:\n",
    "    train.fillna(method='ffill',inplace=True)\n",
    "if(test.isnull().sum().sum()==0):\n",
    "    print('no missing values in test')    \n",
    "else:\n",
    "    test.fillna(method='ffill',inplace=True)"
   ]
  },
  {
   "cell_type": "markdown",
   "id": "81cda025",
   "metadata": {},
   "source": [
    "### Converting datetime column into datetime"
   ]
  },
  {
   "cell_type": "code",
   "execution_count": 14,
   "id": "7eef6166",
   "metadata": {},
   "outputs": [
    {
     "name": "stdout",
     "output_type": "stream",
     "text": [
      "before converting : object\n",
      "after converting : datetime64[ns]\n"
     ]
    }
   ],
   "source": [
    "print('before converting :',train['DateTime'].dtype)\n",
    "train['DateTime'] = pd.to_datetime(train['DateTime'])\n",
    "test['DateTime'] = pd.to_datetime(test['DateTime'])\n",
    "print('after converting :',train['DateTime'].dtype)"
   ]
  },
  {
   "cell_type": "markdown",
   "id": "f0984a83",
   "metadata": {},
   "source": [
    "### Feature Engineering"
   ]
  },
  {
   "cell_type": "markdown",
   "id": "af7b8346",
   "metadata": {},
   "source": [
    "#### Extracting important features from datetime column"
   ]
  },
  {
   "cell_type": "code",
   "execution_count": 15,
   "id": "faf365b5",
   "metadata": {},
   "outputs": [],
   "source": [
    "# Exploring more features  \n",
    "train[\"Year\"]= train['DateTime'].dt.year  \n",
    "train[\"Month\"]= train['DateTime'].dt.month  \n",
    "train[\"Date_no\"]= train['DateTime'].dt.day  \n",
    "train[\"Hour\"]= train['DateTime'].dt.hour  \n",
    "train[\"Day\"]= train.DateTime.dt.strftime(\"%A\")\n",
    "\n",
    "test[\"Year\"]= test['DateTime'].dt.year  \n",
    "test[\"Month\"]= test['DateTime'].dt.month  \n",
    "test[\"Date_no\"]= test['DateTime'].dt.day  \n",
    "test[\"Hour\"]= test['DateTime'].dt.hour  \n",
    "test[\"Day\"]= test.DateTime.dt.strftime(\"%A\")"
   ]
  },
  {
   "cell_type": "code",
   "execution_count": 16,
   "id": "c58dd5ee",
   "metadata": {},
   "outputs": [
    {
     "data": {
      "text/html": [
       "<div>\n",
       "<style scoped>\n",
       "    .dataframe tbody tr th:only-of-type {\n",
       "        vertical-align: middle;\n",
       "    }\n",
       "\n",
       "    .dataframe tbody tr th {\n",
       "        vertical-align: top;\n",
       "    }\n",
       "\n",
       "    .dataframe thead th {\n",
       "        text-align: right;\n",
       "    }\n",
       "</style>\n",
       "<table border=\"1\" class=\"dataframe\">\n",
       "  <thead>\n",
       "    <tr style=\"text-align: right;\">\n",
       "      <th></th>\n",
       "      <th>DateTime</th>\n",
       "      <th>Junction</th>\n",
       "      <th>Vehicles</th>\n",
       "      <th>ID</th>\n",
       "      <th>Year</th>\n",
       "      <th>Month</th>\n",
       "      <th>Date_no</th>\n",
       "      <th>Hour</th>\n",
       "      <th>Day</th>\n",
       "    </tr>\n",
       "  </thead>\n",
       "  <tbody>\n",
       "    <tr>\n",
       "      <th>0</th>\n",
       "      <td>2015-11-01 00:00:00</td>\n",
       "      <td>1</td>\n",
       "      <td>15</td>\n",
       "      <td>20151101001</td>\n",
       "      <td>2015</td>\n",
       "      <td>11</td>\n",
       "      <td>1</td>\n",
       "      <td>0</td>\n",
       "      <td>Sunday</td>\n",
       "    </tr>\n",
       "    <tr>\n",
       "      <th>1</th>\n",
       "      <td>2015-11-01 01:00:00</td>\n",
       "      <td>1</td>\n",
       "      <td>13</td>\n",
       "      <td>20151101011</td>\n",
       "      <td>2015</td>\n",
       "      <td>11</td>\n",
       "      <td>1</td>\n",
       "      <td>1</td>\n",
       "      <td>Sunday</td>\n",
       "    </tr>\n",
       "    <tr>\n",
       "      <th>2</th>\n",
       "      <td>2015-11-01 02:00:00</td>\n",
       "      <td>1</td>\n",
       "      <td>10</td>\n",
       "      <td>20151101021</td>\n",
       "      <td>2015</td>\n",
       "      <td>11</td>\n",
       "      <td>1</td>\n",
       "      <td>2</td>\n",
       "      <td>Sunday</td>\n",
       "    </tr>\n",
       "    <tr>\n",
       "      <th>3</th>\n",
       "      <td>2015-11-01 03:00:00</td>\n",
       "      <td>1</td>\n",
       "      <td>7</td>\n",
       "      <td>20151101031</td>\n",
       "      <td>2015</td>\n",
       "      <td>11</td>\n",
       "      <td>1</td>\n",
       "      <td>3</td>\n",
       "      <td>Sunday</td>\n",
       "    </tr>\n",
       "    <tr>\n",
       "      <th>4</th>\n",
       "      <td>2015-11-01 04:00:00</td>\n",
       "      <td>1</td>\n",
       "      <td>9</td>\n",
       "      <td>20151101041</td>\n",
       "      <td>2015</td>\n",
       "      <td>11</td>\n",
       "      <td>1</td>\n",
       "      <td>4</td>\n",
       "      <td>Sunday</td>\n",
       "    </tr>\n",
       "  </tbody>\n",
       "</table>\n",
       "</div>"
      ],
      "text/plain": [
       "             DateTime  Junction  Vehicles           ID  Year  Month  Date_no  \\\n",
       "0 2015-11-01 00:00:00         1        15  20151101001  2015     11        1   \n",
       "1 2015-11-01 01:00:00         1        13  20151101011  2015     11        1   \n",
       "2 2015-11-01 02:00:00         1        10  20151101021  2015     11        1   \n",
       "3 2015-11-01 03:00:00         1         7  20151101031  2015     11        1   \n",
       "4 2015-11-01 04:00:00         1         9  20151101041  2015     11        1   \n",
       "\n",
       "   Hour     Day  \n",
       "0     0  Sunday  \n",
       "1     1  Sunday  \n",
       "2     2  Sunday  \n",
       "3     3  Sunday  \n",
       "4     4  Sunday  "
      ]
     },
     "execution_count": 16,
     "metadata": {},
     "output_type": "execute_result"
    }
   ],
   "source": [
    "train.head()"
   ]
  },
  {
   "cell_type": "code",
   "execution_count": 17,
   "id": "0147c8e5",
   "metadata": {},
   "outputs": [
    {
     "data": {
      "text/html": [
       "<div>\n",
       "<style scoped>\n",
       "    .dataframe tbody tr th:only-of-type {\n",
       "        vertical-align: middle;\n",
       "    }\n",
       "\n",
       "    .dataframe tbody tr th {\n",
       "        vertical-align: top;\n",
       "    }\n",
       "\n",
       "    .dataframe thead th {\n",
       "        text-align: right;\n",
       "    }\n",
       "</style>\n",
       "<table border=\"1\" class=\"dataframe\">\n",
       "  <thead>\n",
       "    <tr style=\"text-align: right;\">\n",
       "      <th></th>\n",
       "      <th>DateTime</th>\n",
       "      <th>Junction</th>\n",
       "      <th>ID</th>\n",
       "      <th>Year</th>\n",
       "      <th>Month</th>\n",
       "      <th>Date_no</th>\n",
       "      <th>Hour</th>\n",
       "      <th>Day</th>\n",
       "    </tr>\n",
       "  </thead>\n",
       "  <tbody>\n",
       "    <tr>\n",
       "      <th>0</th>\n",
       "      <td>2017-07-01 00:00:00</td>\n",
       "      <td>1</td>\n",
       "      <td>20170701001</td>\n",
       "      <td>2017</td>\n",
       "      <td>7</td>\n",
       "      <td>1</td>\n",
       "      <td>0</td>\n",
       "      <td>Saturday</td>\n",
       "    </tr>\n",
       "    <tr>\n",
       "      <th>1</th>\n",
       "      <td>2017-07-01 01:00:00</td>\n",
       "      <td>1</td>\n",
       "      <td>20170701011</td>\n",
       "      <td>2017</td>\n",
       "      <td>7</td>\n",
       "      <td>1</td>\n",
       "      <td>1</td>\n",
       "      <td>Saturday</td>\n",
       "    </tr>\n",
       "    <tr>\n",
       "      <th>2</th>\n",
       "      <td>2017-07-01 02:00:00</td>\n",
       "      <td>1</td>\n",
       "      <td>20170701021</td>\n",
       "      <td>2017</td>\n",
       "      <td>7</td>\n",
       "      <td>1</td>\n",
       "      <td>2</td>\n",
       "      <td>Saturday</td>\n",
       "    </tr>\n",
       "    <tr>\n",
       "      <th>3</th>\n",
       "      <td>2017-07-01 03:00:00</td>\n",
       "      <td>1</td>\n",
       "      <td>20170701031</td>\n",
       "      <td>2017</td>\n",
       "      <td>7</td>\n",
       "      <td>1</td>\n",
       "      <td>3</td>\n",
       "      <td>Saturday</td>\n",
       "    </tr>\n",
       "    <tr>\n",
       "      <th>4</th>\n",
       "      <td>2017-07-01 04:00:00</td>\n",
       "      <td>1</td>\n",
       "      <td>20170701041</td>\n",
       "      <td>2017</td>\n",
       "      <td>7</td>\n",
       "      <td>1</td>\n",
       "      <td>4</td>\n",
       "      <td>Saturday</td>\n",
       "    </tr>\n",
       "  </tbody>\n",
       "</table>\n",
       "</div>"
      ],
      "text/plain": [
       "             DateTime  Junction           ID  Year  Month  Date_no  Hour  \\\n",
       "0 2017-07-01 00:00:00         1  20170701001  2017      7        1     0   \n",
       "1 2017-07-01 01:00:00         1  20170701011  2017      7        1     1   \n",
       "2 2017-07-01 02:00:00         1  20170701021  2017      7        1     2   \n",
       "3 2017-07-01 03:00:00         1  20170701031  2017      7        1     3   \n",
       "4 2017-07-01 04:00:00         1  20170701041  2017      7        1     4   \n",
       "\n",
       "        Day  \n",
       "0  Saturday  \n",
       "1  Saturday  \n",
       "2  Saturday  \n",
       "3  Saturday  \n",
       "4  Saturday  "
      ]
     },
     "execution_count": 17,
     "metadata": {},
     "output_type": "execute_result"
    }
   ],
   "source": [
    "test.head()"
   ]
  },
  {
   "cell_type": "markdown",
   "id": "6ad49acb",
   "metadata": {},
   "source": [
    "### Data Visualization"
   ]
  },
  {
   "cell_type": "code",
   "execution_count": 18,
   "id": "60754370",
   "metadata": {},
   "outputs": [
    {
     "data": {
      "text/plain": [
       "Text(0.5, 0, 'DateTime')"
      ]
     },
     "execution_count": 18,
     "metadata": {},
     "output_type": "execute_result"
    },
    {
     "data": {
      "image/png": "[encoded data removed]",
      "text/plain": [
       "<Figure size 2000x400 with 1 Axes>"
      ]
     },
     "metadata": {},
     "output_type": "display_data"
    }
   ],
   "source": [
    "# time series plot\n",
    "colors = [ \"#FFD4DB\",\"#BBE7FE\",\"#D3B5E5\",\"#dfe2b6\"]\n",
    "plt.figure(figsize=(20,4),facecolor=\"#627D78\")  \n",
    "time_series=sns.lineplot(x=train['DateTime'],y=\"Vehicles\",data=train, hue=\"Junction\", palette=colors)  \n",
    "time_series.set_title(\"DateTime vs Vehicle\")  \n",
    "time_series.set_ylabel(\"Vehicles in Number\")  \n",
    "time_series.set_xlabel(\"DateTime\")"
   ]
  },
  {
   "cell_type": "code",
   "execution_count": 19,
   "id": "d341f11d",
   "metadata": {},
   "outputs": [
    {
     "data": {
      "text/plain": [
       "Text(0.5, 0, 'Date')"
      ]
     },
     "execution_count": 19,
     "metadata": {},
     "output_type": "execute_result"
    },
    {
     "data": {
      "image/png": "[encoded data removed]",
      "text/plain": [
       "<Figure size 1200x500 with 1 Axes>"
      ]
     },
     "metadata": {},
     "output_type": "display_data"
    }
   ],
   "source": [
    "#years of traffic at junction\n",
    "plt.figure(figsize=(12,5),facecolor=\"#627D78\")  \n",
    "colors = [ \"#FFD4DB\",\"#BBE7FE\",\"#D3B5E5\",\"#dfe2b6\"]\n",
    "count = sns.countplot(data=train, x =train[\"Year\"], hue=\"Junction\", palette=colors)  \n",
    "count.set_title(\"Years of Traffic at Junctions\")  \n",
    "count.set_ylabel(\"Vehicles in numbers\")  \n",
    "count.set_xlabel(\"Date\") "
   ]
  },
  {
   "cell_type": "code",
   "execution_count": 20,
   "id": "f3c73337",
   "metadata": {},
   "outputs": [
    {
     "data": {
      "text/plain": [
       "<Axes: >"
      ]
     },
     "execution_count": 20,
     "metadata": {},
     "output_type": "execute_result"
    },
    {
     "data": {
      "image/png": "[encoded data removed]",
      "text/plain": [
       "<Figure size 1000x1000 with 2 Axes>"
      ]
     },
     "metadata": {},
     "output_type": "display_data"
    }
   ],
   "source": [
    "#heat map\n",
    "corrmat = train.corr()  \n",
    "plt.subplots(figsize=(10,10),facecolor=\"#627D78\")  \n",
    "sns.heatmap(corrmat,cmap= \"Pastel2\",annot=True,square=True, )"
   ]
  },
  {
   "cell_type": "markdown",
   "id": "38d18105",
   "metadata": {},
   "source": [
    "### Split train and test data"
   ]
  },
  {
   "cell_type": "code",
   "execution_count": 21,
   "id": "3863caff",
   "metadata": {},
   "outputs": [],
   "source": [
    "def datetounix1(df):\n",
    "    # Initialising unixtime list\n",
    "    unixtime = []\n",
    "    \n",
    "    # Running a loop for converting Date to seconds\n",
    "    for date in df['DateTime']:\n",
    "        unixtime.append(time.mktime(date.timetuple()))\n",
    "    \n",
    "    # Replacing Date with unixtime list\n",
    "    df['DateTime'] = unixtime\n",
    "    return(df)"
   ]
  },
  {
   "cell_type": "code",
   "execution_count": 22,
   "id": "5b65cd28",
   "metadata": {},
   "outputs": [
    {
     "data": {
      "text/html": [
       "<div>\n",
       "<style scoped>\n",
       "    .dataframe tbody tr th:only-of-type {\n",
       "        vertical-align: middle;\n",
       "    }\n",
       "\n",
       "    .dataframe tbody tr th {\n",
       "        vertical-align: top;\n",
       "    }\n",
       "\n",
       "    .dataframe thead th {\n",
       "        text-align: right;\n",
       "    }\n",
       "</style>\n",
       "<table border=\"1\" class=\"dataframe\">\n",
       "  <thead>\n",
       "    <tr style=\"text-align: right;\">\n",
       "      <th></th>\n",
       "      <th>DateTime</th>\n",
       "      <th>Junction</th>\n",
       "      <th>Vehicles</th>\n",
       "      <th>ID</th>\n",
       "      <th>Year</th>\n",
       "      <th>Month</th>\n",
       "      <th>Date_no</th>\n",
       "      <th>Hour</th>\n",
       "      <th>Day</th>\n",
       "    </tr>\n",
       "  </thead>\n",
       "  <tbody>\n",
       "    <tr>\n",
       "      <th>0</th>\n",
       "      <td>2015-11-01 00:00:00</td>\n",
       "      <td>1</td>\n",
       "      <td>15</td>\n",
       "      <td>20151101001</td>\n",
       "      <td>2015</td>\n",
       "      <td>11</td>\n",
       "      <td>1</td>\n",
       "      <td>0</td>\n",
       "      <td>Sunday</td>\n",
       "    </tr>\n",
       "    <tr>\n",
       "      <th>1</th>\n",
       "      <td>2015-11-01 01:00:00</td>\n",
       "      <td>1</td>\n",
       "      <td>13</td>\n",
       "      <td>20151101011</td>\n",
       "      <td>2015</td>\n",
       "      <td>11</td>\n",
       "      <td>1</td>\n",
       "      <td>1</td>\n",
       "      <td>Sunday</td>\n",
       "    </tr>\n",
       "    <tr>\n",
       "      <th>2</th>\n",
       "      <td>2015-11-01 02:00:00</td>\n",
       "      <td>1</td>\n",
       "      <td>10</td>\n",
       "      <td>20151101021</td>\n",
       "      <td>2015</td>\n",
       "      <td>11</td>\n",
       "      <td>1</td>\n",
       "      <td>2</td>\n",
       "      <td>Sunday</td>\n",
       "    </tr>\n",
       "    <tr>\n",
       "      <th>3</th>\n",
       "      <td>2015-11-01 03:00:00</td>\n",
       "      <td>1</td>\n",
       "      <td>7</td>\n",
       "      <td>20151101031</td>\n",
       "      <td>2015</td>\n",
       "      <td>11</td>\n",
       "      <td>1</td>\n",
       "      <td>3</td>\n",
       "      <td>Sunday</td>\n",
       "    </tr>\n",
       "    <tr>\n",
       "      <th>4</th>\n",
       "      <td>2015-11-01 04:00:00</td>\n",
       "      <td>1</td>\n",
       "      <td>9</td>\n",
       "      <td>20151101041</td>\n",
       "      <td>2015</td>\n",
       "      <td>11</td>\n",
       "      <td>1</td>\n",
       "      <td>4</td>\n",
       "      <td>Sunday</td>\n",
       "    </tr>\n",
       "  </tbody>\n",
       "</table>\n",
       "</div>"
      ],
      "text/plain": [
       "             DateTime  Junction  Vehicles           ID  Year  Month  Date_no  \\\n",
       "0 2015-11-01 00:00:00         1        15  20151101001  2015     11        1   \n",
       "1 2015-11-01 01:00:00         1        13  20151101011  2015     11        1   \n",
       "2 2015-11-01 02:00:00         1        10  20151101021  2015     11        1   \n",
       "3 2015-11-01 03:00:00         1         7  20151101031  2015     11        1   \n",
       "4 2015-11-01 04:00:00         1         9  20151101041  2015     11        1   \n",
       "\n",
       "   Hour     Day  \n",
       "0     0  Sunday  \n",
       "1     1  Sunday  \n",
       "2     2  Sunday  \n",
       "3     3  Sunday  \n",
       "4     4  Sunday  "
      ]
     },
     "execution_count": 22,
     "metadata": {},
     "output_type": "execute_result"
    }
   ],
   "source": [
    "train.head()"
   ]
  },
  {
   "cell_type": "code",
   "execution_count": 23,
   "id": "a92e5bb3",
   "metadata": {},
   "outputs": [],
   "source": [
    "train_features = datetounix1(train.drop(['Vehicles'], axis=1))\n",
    "test_features = datetounix1(test)\n",
    "\n",
    "\n",
    "# Store Features / Predictors in array :\n",
    "X = train_features  \n",
    "X_valid = test_features\n",
    "\n",
    "# One Hot Encoding - Using Dummies :\n",
    "X = pd.get_dummies(X)\n",
    "X_valid = pd.get_dummies(X_valid)\n",
    "\n",
    "# Store target 'Vehicles' in y array :\n",
    "y = train['Vehicles'].to_frame()\n",
    "\n",
    "X_train, X_test, y_train, y_test = train_test_split(X, y, test_size=0.33, random_state=512)"
   ]
  },
  {
   "cell_type": "markdown",
   "id": "34dddd14",
   "metadata": {},
   "source": [
    "### LGBM Regression"
   ]
  },
  {
   "cell_type": "code",
   "execution_count": 24,
   "id": "6a409e08",
   "metadata": {},
   "outputs": [
    {
     "name": "stdout",
     "output_type": "stream",
     "text": [
      "[LightGBM] [Warning] Auto-choosing row-wise multi-threading, the overhead of testing was 0.005904 seconds.\n",
      "You can set `force_row_wise=true` to remove the overhead.\n",
      "And if memory is not enough, you can set `force_col_wise=true`.\n",
      "[LightGBM] [Info] Total Bins 602\n",
      "[LightGBM] [Info] Number of data points in the train set: 32240, number of used features: 14\n",
      "[LightGBM] [Info] Start training from score 22.676458\n",
      "Mean Squared Error: 26.130020507003152\n",
      "Mean Absolute Error: 2.9299309567160123\n",
      "R2 Score: 0.9407083622016995\n"
     ]
    }
   ],
   "source": [
    "# Convert the dataset to LightGBM data format\n",
    "train_data = lgb.Dataset(X_train, label=y_train)\n",
    "\n",
    "# Set the parameters for the LightGBM regression model\n",
    "params = {\n",
    "    'objective': 'regression',\n",
    "    'metric': 'rmse'  # Root Mean Squared Error\n",
    "}\n",
    "\n",
    "# Train the LightGBM regression model\n",
    "model = lgb.train(params,train_data, num_boost_round=100)\n",
    "\n",
    "# Make predictions on the testing set\n",
    "y_pred = model.predict(X_test)\n",
    "\n",
    "# Evaluating the model\n",
    "mse = mean_squared_error(y_test, y_pred)\n",
    "mae = mean_absolute_error(y_test, y_pred)\n",
    "r2 = r2_score(y_test, y_pred)\n",
    "\n",
    "# Printing the evaluation metrics\n",
    "print(\"Mean Squared Error:\", mse)\n",
    "print(\"Mean Absolute Error:\", mae)\n",
    "print(\"R2 Score:\", r2)"
   ]
  },
  {
   "cell_type": "markdown",
   "id": "c7142b14",
   "metadata": {},
   "source": [
    "- Mean Squared Error: 26.130020507003152\n",
    "- Mean Absolute Error: 2.9299309567160123\n",
    "- R2 Score: 0.9407083622016995"
   ]
  },
  {
   "cell_type": "markdown",
   "id": "7e8b64c8",
   "metadata": {},
   "source": [
    "### Random Forest regressor"
   ]
  },
  {
   "cell_type": "code",
   "execution_count": 28,
   "id": "c9827cb3",
   "metadata": {},
   "outputs": [],
   "source": [
    "# Create a Random Forest regressor\n",
    "rf_regressor = RandomForestRegressor(n_estimators=100, random_state=42)\n",
    "\n",
    "# Train the model\n",
    "rf_regressor.fit(X_train, y_train)\n",
    "\n",
    "# Make predictions on the test set\n",
    "y_pred = rf_regressor.predict(X_test)\n",
    "# for i in range(15880):\n",
    "#    print(y_pred[i],y_test.iloc[i])"
   ]
  },
  {
   "cell_type": "code",
   "execution_count": 26,
   "id": "c079789f",
   "metadata": {},
   "outputs": [
    {
     "name": "stdout",
     "output_type": "stream",
     "text": [
      "Mean Squared Error: 15.770556801007558\n",
      "Mean Absolute Error: 2.5105428211586904\n",
      "R2 Score: 0.9642150245740428\n"
     ]
    }
   ],
   "source": [
    "# Evaluating the model\n",
    "mse = mean_squared_error(y_test, y_pred)\n",
    "mae = mean_absolute_error(y_test, y_pred)\n",
    "r2 = r2_score(y_test, y_pred)\n",
    "\n",
    "# Printing the evaluation metrics\n",
    "print(\"Mean Squared Error:\", mse)\n",
    "print(\"Mean Absolute Error:\", mae)\n",
    "print(\"R2 Score:\", r2)"
   ]
  },
  {
   "cell_type": "code",
   "execution_count": null,
   "id": "a714479d",
   "metadata": {},
   "outputs": [],
   "source": []
  }
 ],
 "metadata": {
  "kernelspec": {
   "display_name": "Python 3 (ipykernel)",
   "language": "python",
   "name": "python3"
  },
  "language_info": {
   "codemirror_mode": {
    "name": "ipython",
    "version": 3
   },
   "file_extension": ".py",
   "mimetype": "text/x-python",
   "name": "python",
   "nbconvert_exporter": "python",
   "pygments_lexer": "ipython3",
   "version": "3.10.9"
  }
 },
 "nbformat": 4,
 "nbformat_minor": 5
}
